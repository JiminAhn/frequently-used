{
 "cells": [
  {
   "cell_type": "markdown",
   "id": "ec253c2d-7f47-4cca-a4fc-714c53d046a5",
   "metadata": {},
   "source": [
    "# SHA 256 generator"
   ]
  },
  {
   "cell_type": "markdown",
   "id": "6a2a50eb-dbc5-4ccf-8c06-487cfb533128",
   "metadata": {},
   "source": [
    "by Jimin Ahn <br/>"
   ]
  },
  {
   "cell_type": "markdown",
   "id": "96418924-6234-412d-b640-773cc63c8e97",
   "metadata": {},
   "source": [
    "last updated : `20240422`"
   ]
  },
  {
   "cell_type": "code",
   "execution_count": null,
   "id": "cd29a3c6-4c50-4997-935b-500bd933eaa8",
   "metadata": {},
   "outputs": [],
   "source": [
    "import hashlib"
   ]
  },
  {
   "cell_type": "markdown",
   "id": "04941515-01c9-400a-aa72-3798fc6b3b53",
   "metadata": {
    "tags": []
   },
   "source": [
    "## Case 1. Single  string"
   ]
  },
  {
   "cell_type": "code",
   "execution_count": null,
   "id": "747e490e-4494-4a69-a942-b0e75b96add0",
   "metadata": {
    "tags": []
   },
   "outputs": [],
   "source": [
    "str1 = \"안지민\""
   ]
  },
  {
   "cell_type": "code",
   "execution_count": null,
   "id": "c4d6be0f-e528-47ba-a27f-a8fc656d3ac8",
   "metadata": {},
   "outputs": [],
   "source": [
    "result = hashlib.sha256(str1.encode())\n",
    "print(result.hexdigest())"
   ]
  },
  {
   "cell_type": "markdown",
   "id": "445bd492-ba05-4023-9935-7fa2c3cd68cb",
   "metadata": {
    "tags": []
   },
   "source": [
    "## Case 2. Import and add hashed result to .xlsx file\n"
   ]
  },
  {
   "cell_type": "markdown",
   "id": "225be0c0-c63d-47ac-bfc4-11b78d74afbd",
   "metadata": {
    "tags": []
   },
   "source": [
    "### Read File"
   ]
  },
  {
   "cell_type": "code",
   "execution_count": null,
   "id": "dcf87323-ec65-4b9c-ad63-a2ac3a052270",
   "metadata": {},
   "outputs": [],
   "source": [
    "file_name =\"\" #copy paste excel file name here"
   ]
  },
  {
   "cell_type": "code",
   "execution_count": null,
   "id": "ca81ccb9-67e5-40d0-a563-ab52e8e2c506",
   "metadata": {},
   "outputs": [],
   "source": [
    "target_column = \"\" #write target column name here"
   ]
  },
  {
   "cell_type": "code",
   "execution_count": null,
   "id": "5bbca3a4-a70a-4296-8d65-2170da331543",
   "metadata": {},
   "outputs": [],
   "source": [
    "df = pd.read_excel(f'{file_name}.xlsx', sheet_name = 0)"
   ]
  },
  {
   "cell_type": "code",
   "execution_count": null,
   "id": "78d854db-4e17-40ff-aa1c-888288cc43cc",
   "metadata": {},
   "outputs": [],
   "source": [
    "df[f'Hashed_{column_name}'] = sha256(df[f'{column_name}'].encode())"
   ]
  },
  {
   "cell_type": "code",
   "execution_count": null,
   "id": "9deaf062-f332-4d31-89da-2fc086ac296d",
   "metadata": {},
   "outputs": [],
   "source": [
    "df.head() #check"
   ]
  },
  {
   "cell_type": "markdown",
   "id": "ee00f2d9-968e-4452-8587-d0ff96149ee0",
   "metadata": {},
   "source": [
    "### Write File"
   ]
  },
  {
   "cell_type": "code",
   "execution_count": null,
   "id": "bda65ea0-4b2f-4ee3-aff1-53c85511b196",
   "metadata": {},
   "outputs": [],
   "source": [
    "import datetime\n",
    "import pytz\n",
    "\n",
    "def get_time(): ## 현재 시각 반환\n",
    "\n",
    "    now = datetime.datetime.utcnow()\n",
    "    UTC = pytz.timezone('UTC')\n",
    "    KST = pytz.timezone('Asia/Seoul')\n",
    "    now_utc = now.replace(tzinfo=UTC)\n",
    "    now_kst = now_utc.astimezone(KST)\n",
    "    timestr = now_kst.strftime(\"%Y%m%d\")\n",
    "\n",
    "    return timestr"
   ]
  },
  {
   "cell_type": "code",
   "execution_count": null,
   "id": "4d4a3305-647a-4a6c-82eb-d39a7ab19af6",
   "metadata": {},
   "outputs": [],
   "source": [
    "df.to_excel(f'Hashed_{file_name}_{get_time()}.xlsx',sheet_name= 'Hashed', index = False)"
   ]
  },
  {
   "cell_type": "code",
   "execution_count": null,
   "id": "8fca8b33-cfb4-4d0b-83ae-c1f5daabcfb8",
   "metadata": {},
   "outputs": [],
   "source": []
  }
 ],
 "metadata": {
  "kernelspec": {
   "display_name": "Python 3 (ipykernel)",
   "language": "python",
   "name": "python3"
  },
  "language_info": {
   "codemirror_mode": {
    "name": "ipython",
    "version": 3
   },
   "file_extension": ".py",
   "mimetype": "text/x-python",
   "name": "python",
   "nbconvert_exporter": "python",
   "pygments_lexer": "ipython3",
   "version": "3.10.9"
  }
 },
 "nbformat": 4,
 "nbformat_minor": 5
}
