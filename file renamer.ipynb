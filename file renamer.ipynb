{
 "cells": [
  {
   "cell_type": "markdown",
   "id": "bf9992ec-d48b-4bdd-98c4-039ac0cfca55",
   "metadata": {},
   "source": [
    "# File Name Changer"
   ]
  },
  {
   "cell_type": "markdown",
   "id": "04f9787c-7fbf-4f42-a96f-f2031de17030",
   "metadata": {},
   "source": [
    "Useful when you have to change names of large number of files in one directory"
   ]
  },
  {
   "cell_type": "markdown",
   "id": "9d7287bd-1094-42ce-8910-2eb4ca76e758",
   "metadata": {},
   "source": [
    "### Proceed with Caution: this code renames all files in set directory to \"yeet_{decimal}.json\". Backup important files beforehand"
   ]
  },
  {
   "cell_type": "markdown",
   "id": "ad7abdcc-b22e-458e-88c2-5b1cf920b9e1",
   "metadata": {
    "jp-MarkdownHeadingCollapsed": true,
    "tags": []
   },
   "source": [
    "input : 'abc.json' <br/>\n",
    "output: 'yeet_{number}.json'"
   ]
  },
  {
   "cell_type": "markdown",
   "id": "b75febf3-66ab-431a-b647-c637669e58bf",
   "metadata": {},
   "source": [
    "## Import Packages & Check current working directory"
   ]
  },
  {
   "cell_type": "code",
   "execution_count": 1,
   "id": "71f51496-840b-42d0-ba30-663a2b98185e",
   "metadata": {},
   "outputs": [],
   "source": [
    "import os"
   ]
  },
  {
   "cell_type": "code",
   "execution_count": 2,
   "id": "67b0a3ad-4cfe-4591-aab8-7d02d8f7852a",
   "metadata": {},
   "outputs": [
    {
     "data": {
      "text/plain": [
       "'/Users/jimin/Downloads/spotify_million_playlist_dataset/src'"
      ]
     },
     "execution_count": 2,
     "metadata": {},
     "output_type": "execute_result"
    }
   ],
   "source": [
    "os.getcwd()"
   ]
  },
  {
   "cell_type": "markdown",
   "id": "4e45e138-a57d-4d6c-b5ce-160202260ee9",
   "metadata": {},
   "source": [
    "## Set Path"
   ]
  },
  {
   "cell_type": "code",
   "execution_count": 3,
   "id": "04ef41cf-a0fe-44b2-b0e8-bb7e3084c307",
   "metadata": {},
   "outputs": [],
   "source": [
    "path = \"/Users/jimin/Downloads/spotify_million_playlist_dataset/data_test\" # set path"
   ]
  },
  {
   "cell_type": "markdown",
   "id": "94a20fd9-c198-45e1-92b1-5dff2ac5164c",
   "metadata": {},
   "source": [
    "## Check List of files"
   ]
  },
  {
   "cell_type": "code",
   "execution_count": 4,
   "id": "539508de-c290-4111-baf3-7a4e2b413117",
   "metadata": {},
   "outputs": [
    {
     "data": {
      "text/plain": [
       "['mpd.slice.7000-7999.json',\n",
       " 'mpd.slice.3000-3999.json',\n",
       " 'mpd.slice.6000-6999.json',\n",
       " 'mpd.slice.2000-2999.json',\n",
       " '.DS_Store',\n",
       " 'mpd.slice.0-999.json',\n",
       " 'mpd.slice.5000-5999.json',\n",
       " 'mpd.slice.1000-1999.json',\n",
       " 'mpd.slice.4000-4999.json',\n",
       " 'yeet_4.json']"
      ]
     },
     "execution_count": 4,
     "metadata": {},
     "output_type": "execute_result"
    }
   ],
   "source": [
    "os.listdir(path)"
   ]
  },
  {
   "cell_type": "code",
   "execution_count": 5,
   "id": "c377eae0-3981-4c6b-b340-7dce52b1830b",
   "metadata": {},
   "outputs": [],
   "source": [
    "# os.listdir(path)[0].split('.json')[0:-1] ##string without file extension"
   ]
  },
  {
   "cell_type": "code",
   "execution_count": 6,
   "id": "0dccd201-d28c-4a60-80c0-b0e6f9734d2c",
   "metadata": {},
   "outputs": [],
   "source": [
    "files = os.listdir(path)"
   ]
  },
  {
   "cell_type": "code",
   "execution_count": 7,
   "id": "af8853a5-214f-4be8-a193-d890831e7fa7",
   "metadata": {},
   "outputs": [],
   "source": [
    "num_files = len(os.listdir(path))"
   ]
  },
  {
   "cell_type": "markdown",
   "id": "fc5093f5-f1e3-4fc9-aed0-92dbd08378f7",
   "metadata": {},
   "source": [
    "## Set output name"
   ]
  },
  {
   "cell_type": "code",
   "execution_count": 8,
   "id": "c870d168-10b6-44fd-aeb0-c4edffde8eca",
   "metadata": {},
   "outputs": [],
   "source": [
    "random_marker = \"yeet\""
   ]
  },
  {
   "cell_type": "markdown",
   "id": "3fbbc9f4-083d-4871-914d-401593b3f13c",
   "metadata": {},
   "source": [
    "## Loop of Doom"
   ]
  },
  {
   "cell_type": "code",
   "execution_count": 9,
   "id": "bf7403a3-d751-4156-996f-8305e0876b1a",
   "metadata": {},
   "outputs": [],
   "source": [
    "for i in range(num_files):\n",
    "    os.rename(os.path.join(path,files[i]), os.path.join(path, f'{random_marker}_{i}.json'))"
   ]
  },
  {
   "cell_type": "code",
   "execution_count": 10,
   "id": "db1dbb2a-d04b-4ab0-8cd7-78d2d2e7d915",
   "metadata": {},
   "outputs": [
    {
     "data": {
      "text/plain": [
       "['yeet_6.json',\n",
       " 'yeet_7.json',\n",
       " 'yeet_0.json',\n",
       " 'yeet_1.json',\n",
       " 'yeet_2.json',\n",
       " 'yeet_3.json',\n",
       " 'yeet_8.json',\n",
       " 'yeet_5.json',\n",
       " 'yeet_9.json']"
      ]
     },
     "execution_count": 10,
     "metadata": {},
     "output_type": "execute_result"
    }
   ],
   "source": [
    "os.listdir(path) #nice"
   ]
  },
  {
   "cell_type": "code",
   "execution_count": null,
   "id": "b406d2a7-79c0-4eee-b16f-774bfea52bb6",
   "metadata": {},
   "outputs": [],
   "source": [
    "## Someone else's code\n",
    "\n",
    "# for index, file in enumerate(files):\n",
    "#     os.rename(os.path.join(path, file), os.path.join(path, ''.join([str(index), '.jpg'])))"
   ]
  }
 ],
 "metadata": {
  "kernelspec": {
   "display_name": "Python 3 (ipykernel)",
   "language": "python",
   "name": "python3"
  },
  "language_info": {
   "codemirror_mode": {
    "name": "ipython",
    "version": 3
   },
   "file_extension": ".py",
   "mimetype": "text/x-python",
   "name": "python",
   "nbconvert_exporter": "python",
   "pygments_lexer": "ipython3",
   "version": "3.10.9"
  }
 },
 "nbformat": 4,
 "nbformat_minor": 5
}
