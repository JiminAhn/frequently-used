{
 "cells": [
  {
   "cell_type": "markdown",
   "id": "4e66815c",
   "metadata": {},
   "source": [
    "# Read, concat and preprocess multiple files in one directrory"
   ]
  },
  {
   "cell_type": "markdown",
   "id": "96b5f6ac",
   "metadata": {},
   "source": [
    "Useful when raw data inputs are grouped by country/site/year but not labelled in actual data. (e.g. Google Analytics data by property, where properties are countries or regions) </br> Important to save filenames as 'Sitecode^###'"
   ]
  },
  {
   "cell_type": "code",
   "execution_count": 1,
   "id": "bbe0cb47",
   "metadata": {},
   "outputs": [],
   "source": [
    "import os\n",
    "import re\n",
    "import pandas as pd"
   ]
  },
  {
   "cell_type": "code",
   "execution_count": null,
   "id": "54a3305b",
   "metadata": {},
   "outputs": [],
   "source": [
    "raw_path = './raw/'"
   ]
  },
  {
   "cell_type": "code",
   "execution_count": null,
   "id": "5795301c",
   "metadata": {},
   "outputs": [],
   "source": [
    "key = pd.read_csv('key.csv')"
   ]
  },
  {
   "cell_type": "code",
   "execution_count": null,
   "id": "89531d10",
   "metadata": {},
   "outputs": [],
   "source": [
    "result = pd.DataFrame()\n",
    "for file in os.listdir(f'{raw_path}'):\n",
    "    df = pd.read_csv(raw_path+file, encoding= 'UTF-8', comment='#')\n",
    "    site = file.split('^')[0] #filename split to indicate site\n",
    "    df.insert(loc =0, column= 'Site', value= site) # insert site code column \n",
    "    result = pd.concat([result, df], ignore_index=True)\n",
    "\n",
    "result"
   ]
  },
  {
   "cell_type": "code",
   "execution_count": null,
   "id": "2ecffec3",
   "metadata": {},
   "outputs": [],
   "source": [
    "merged = result.merge(key, on='Site', how='left')\n",
    "merged"
   ]
  },
  {
   "cell_type": "code",
   "execution_count": null,
   "id": "709648a0",
   "metadata": {},
   "outputs": [],
   "source": [
    "merged = merged.reindex(['Country', 'Subs', 'Site', 'Age', 'Segment', 'Users'], axis=1)"
   ]
  },
  {
   "cell_type": "code",
   "execution_count": null,
   "id": "e68f2ef2",
   "metadata": {},
   "outputs": [],
   "source": [
    "merged"
   ]
  },
  {
   "cell_type": "code",
   "execution_count": null,
   "id": "8492432d",
   "metadata": {},
   "outputs": [],
   "source": [
    "gender_result['Site'].unique()"
   ]
  },
  {
   "cell_type": "code",
   "execution_count": null,
   "id": "5f0cb178",
   "metadata": {},
   "outputs": [],
   "source": [
    "merged.to_excel('result.xlsx', encoding = 'UTF-8', index = False)"
   ]
  },
  {
   "cell_type": "code",
   "execution_count": 2,
   "id": "8c2ac886",
   "metadata": {},
   "outputs": [],
   "source": [
    "# may need to change traffic dtypes to int depending on raw data"
   ]
  }
 ],
 "metadata": {
  "kernelspec": {
   "display_name": "Python 3 (ipykernel)",
   "language": "python",
   "name": "python3"
  },
  "language_info": {
   "codemirror_mode": {
    "name": "ipython",
    "version": 3
   },
   "file_extension": ".py",
   "mimetype": "text/x-python",
   "name": "python",
   "nbconvert_exporter": "python",
   "pygments_lexer": "ipython3",
   "version": "3.9.13"
  },
  "toc": {
   "base_numbering": 1,
   "nav_menu": {},
   "number_sections": true,
   "sideBar": true,
   "skip_h1_title": false,
   "title_cell": "Table of Contents",
   "title_sidebar": "Contents",
   "toc_cell": false,
   "toc_position": {},
   "toc_section_display": true,
   "toc_window_display": false
  }
 },
 "nbformat": 4,
 "nbformat_minor": 5
}
